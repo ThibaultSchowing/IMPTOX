{
 "cells": [
  {
   "cell_type": "markdown",
   "id": "c4d5a322",
   "metadata": {},
   "source": [
    "# Imptox various stuff\n",
    "\n",
    "- Copy and manage images"
   ]
  },
  {
   "cell_type": "markdown",
   "id": "cff01290",
   "metadata": {},
   "source": [
    "## Copy images into library"
   ]
  },
  {
   "cell_type": "code",
   "execution_count": null,
   "id": "32df7cdf",
   "metadata": {},
   "outputs": [],
   "source": [
    "import glob\n",
    "import shutil\n",
    "import os\n",
    "from PIL import Image\n",
    "\n",
    "import numpy as np\n",
    "import pandas as pd\n",
    "import cv2 as cv\n",
    "from matplotlib import pyplot as plt"
   ]
  },
  {
   "cell_type": "code",
   "execution_count": null,
   "id": "58a3db39",
   "metadata": {
    "scrolled": true
   },
   "outputs": [],
   "source": [
    "\n",
    "\n",
    "\n",
    "src_dir = \"C:/Users/TWG/switchdrive/H2020_IMPTOX_CI4CB/7_Applications_SampleData/1_imageSample/wetransfer_for-ai-team_2022-02-20_1821\"\n",
    "dst_dir = \"C:/Users/TWG/switchdrive/H2020_IMPTOX_CI4CB/7_Applications_SampleData/1_imageSample/1_raw_library/\"\n",
    "\n",
    "\n",
    "\n",
    "#for jpgfile in glob.iglob(os.path.join(src_dir, \"*.jpg\")):\n",
    "for root, subdirs, files in os.walk(src_dir):\n",
    "    \n",
    "    print(f\"\\n\\n------ Sub-dirs: {subdirs}----------\")\n",
    "    print(f\"\\n====== Root: {root}\")\n",
    "    print(f\"\\nFile: {files}\")\n",
    "    \n",
    "    # name of the parent directory\n",
    "    exp_name = os.path.basename(os.path.normpath(root)).replace(\" \", \"_\")\n",
    "    \n",
    "    for file in files:\n",
    "        \n",
    "        # Complete file path\n",
    "        filepath = root + \"/\" + file\n",
    "        \n",
    "        # Separate base from extension\n",
    "        base, extension = os.path.splitext(file)\n",
    "        \n",
    "        print(f\"Treating file {base}{extension}\")\n",
    "        \n",
    "        # Trim filename spaces\n",
    "        new_base = base.replace(\" \", \"_\")\n",
    "        destination = \"\"\n",
    "        \n",
    "        if(extension == \".jpg\"):\n",
    "            # Copy into jpg dst_dir\n",
    "            print(\"jpg\")\n",
    "            destination = dst_dir + \"jpg/\" + exp_name + \"-\" + new_base + extension\n",
    "            print(f\"Destination: {destination}\")\n",
    "            shutil.copy(filepath, destination)\n",
    "        elif(extension == \".tif\"):\n",
    "            # Copy into tif dst_dir\n",
    "            print(\"tif\")\n",
    "            destination = dst_dir + \"tif/\" + exp_name + \"-\" + new_base + extension\n",
    "            print(f\"Destination: {destination}\")\n",
    "            shutil.copy(filepath, destination)\n",
    "        \n",
    "    \n",
    "    \n",
    "    \n",
    "    \n",
    "    \n",
    "    \n",
    "    \n",
    "    \n",
    "    \n",
    "    \n",
    "    "
   ]
  },
  {
   "cell_type": "markdown",
   "id": "1fea67bb",
   "metadata": {},
   "source": [
    "# Images quality and resolution\n",
    "\n",
    "Exploration of the available images\n",
    "\n"
   ]
  },
  {
   "cell_type": "code",
   "execution_count": null,
   "id": "f2623a94",
   "metadata": {},
   "outputs": [],
   "source": []
  },
  {
   "cell_type": "code",
   "execution_count": null,
   "id": "e2d2ac07",
   "metadata": {
    "scrolled": true
   },
   "outputs": [],
   "source": [
    "img_dir  = \"C:/Users/TWG/switchdrive/H2020_IMPTOX_CI4CB/7_Applications_SampleData/1_imageSample/1_raw_library/tif\"\n",
    "\n",
    "tif_shapes = []\n",
    "tif_filelist = []\n",
    "\n",
    "\n",
    "for root, subdirs, files in os.walk(img_dir):\n",
    "    for file in files:\n",
    "        \n",
    "        # Complete file path\n",
    "        filepath = root + \"/\" + file\n",
    "        \n",
    "        # Separate base from extension\n",
    "        base, extension = os.path.splitext(file)\n",
    "        \n",
    "        #print(f\"Treating file {base}{extension}\")\n",
    "        \n",
    "        # Open file with Pillow\n",
    "        with Image.open(filepath) as im:\n",
    "            #print(im.size)\n",
    "            #im.show()\n",
    "            imarray = np.array(im)\n",
    "            #print(imarray.shape)\n",
    "            tif_shapes.append(imarray.shape)\n",
    "            tif_filelist.append(filepath)\n",
    "            \n",
    "\n",
    "# Create dataframe with image resolutions from numpy array (3D)\n",
    "df = pd.DataFrame(tif_shapes)\n",
    "\n",
    "\n",
    "        "
   ]
  },
  {
   "cell_type": "code",
   "execution_count": null,
   "id": "8c504dac",
   "metadata": {},
   "outputs": [],
   "source": [
    "# Count different image resolution\n",
    "df.groupby(df.columns.tolist(),as_index=False).size()"
   ]
  },
  {
   "cell_type": "code",
   "execution_count": null,
   "id": "c41f5ba5",
   "metadata": {},
   "outputs": [],
   "source": [
    "plt.rcParams['figure.figsize'] = [20, 15]\n",
    "for idx, im_path in enumerate(tif_filelist):\n",
    "    if idx != 0:\n",
    "        break\n",
    "    with Image.open(im_path) as im:\n",
    "        # Takes a bit of time to display.\n",
    "        #display(im)\n",
    "        img = cv.imread(im_path,0)\n",
    "        edges = cv.Canny(img,60,60)\n",
    "        \n",
    "        plt.imshow(img,cmap = 'gray')\n",
    "        plt.title('Original Image'), plt.xticks([]), plt.yticks([])\n",
    "        plt.show()\n",
    "        \n",
    "        plt.imshow(edges,cmap = 'gray')\n",
    "        plt.title('Edge Image'), plt.xticks([]), plt.yticks([])\n",
    "        plt.show()\n",
    "        "
   ]
  },
  {
   "cell_type": "markdown",
   "id": "e4046fb7",
   "metadata": {},
   "source": [
    "### Test, actually good to extract filter"
   ]
  },
  {
   "cell_type": "code",
   "execution_count": null,
   "id": "fe0074f0",
   "metadata": {
    "scrolled": true
   },
   "outputs": [],
   "source": [
    "for idx, im_path in enumerate(tif_filelist):\n",
    "   # if idx != 0:\n",
    "   #     break\n",
    "    with Image.open(im_path) as im:\n",
    "        # Takes a bit of time to display.\n",
    "        #display(im)\n",
    "        gray = img = cv.imread(im_path,0)\n",
    "        \n",
    "        edges = cv.Canny(img,60,60)\n",
    "        \n",
    "        print(img.shape)\n",
    "\n",
    "        #gray = cv.cvtColor(img,cv.COLOR_BGR2GRAY)\n",
    "        ret, thresh = cv.threshold(gray,0,255,cv.THRESH_BINARY_INV+cv.THRESH_OTSU)\n",
    "        \n",
    "        plt.imshow(img,cmap = 'gray')\n",
    "        plt.title('Grey thresholded Image'), plt.xticks([]), plt.yticks([])\n",
    "        plt.show()\n",
    "        \n",
    "        # noise removal\n",
    "        kernel = np.ones((3,3),np.uint8)\n",
    "        opening = cv.morphologyEx(thresh,cv.MORPH_OPEN,kernel, iterations = 2)\n",
    "        # sure background area\n",
    "        sure_bg = cv.dilate(opening,kernel,iterations=3)\n",
    "        # Finding sure foreground area\n",
    "        dist_transform = cv.distanceTransform(opening,cv.DIST_L2,5)\n",
    "        ret, sure_fg = cv.threshold(dist_transform,0.7*dist_transform.max(),255,0)\n",
    "        # Finding unknown region\n",
    "        sure_fg = np.uint8(sure_fg)\n",
    "        unknown = cv.subtract(sure_bg,sure_fg)\n",
    "        \n",
    "        # Marker labelling\n",
    "        ret, markers = cv.connectedComponents(sure_fg)\n",
    "        # Add one to all labels so that sure background is not 0, but 1\n",
    "        markers = markers+1\n",
    "        # Now, mark the region of unknown with zero\n",
    "        markers[unknown==255] = 0\n",
    "        \n",
    "        plt.imshow(markers,cmap = 'gray')\n",
    "        plt.title('Grey markers Image'), plt.xticks([]), plt.yticks([])\n",
    "        plt.show()\n",
    "        \n",
    "        col = cv.cvtColor(img,cv.COLOR_GRAY2BGR)\n",
    "        \n",
    "        \n",
    "        markers = cv.watershed(col,markers)\n",
    "        \n",
    "        col[markers == -1] = [255,0,0]\n",
    "        \n",
    "        plt.imshow(col)\n",
    "        plt.title('Watershed Image'), plt.xticks([]), plt.yticks([])\n",
    "        plt.show()\n",
    "\n"
   ]
  },
  {
   "cell_type": "code",
   "execution_count": null,
   "id": "6a19f087",
   "metadata": {},
   "outputs": [],
   "source": [
    "for idx, im_path in enumerate(tif_filelist):\n",
    "    if idx != 0:\n",
    "        break\n",
    "    with Image.open(im_path) as im:\n",
    "        # Takes a bit of time to display.\n",
    "        #display(im)\n",
    "        gray = img = cv.imread(im_path,0)\n",
    "\n",
    "        # converting the image into gray-scale\n",
    "        #gray = cv2.cvtColor(img, cv2.COLOR_BGR2GRAY)\n",
    "        img2 = cv.medianBlur(img, 1)\n",
    "\n",
    "        #applying adaptive threshold to use it as a mask\n",
    "        edges = cv.adaptiveThreshold(gray, 255, cv.ADAPTIVE_THRESH_MEAN_C, cv.THRESH_BINARY, 9, 9)\n",
    "\n",
    "        color = cv.bilateralFilter(img, 9, 200, 200)\n",
    "\n",
    "        #cartoonize\n",
    "        cartoon = cv.bitwise_and(color, color, mask = edges)\n",
    "\n",
    "        plt.imshow(color)\n",
    "        plt.title('color Image'), plt.xticks([]), plt.yticks([])\n",
    "        plt.show()\n",
    "\n",
    "        "
   ]
  },
  {
   "cell_type": "code",
   "execution_count": null,
   "id": "77f77531",
   "metadata": {},
   "outputs": [],
   "source": []
  },
  {
   "cell_type": "code",
   "execution_count": null,
   "id": "7202d77d",
   "metadata": {},
   "outputs": [],
   "source": []
  },
  {
   "cell_type": "code",
   "execution_count": null,
   "id": "151dc511",
   "metadata": {},
   "outputs": [],
   "source": []
  },
  {
   "cell_type": "code",
   "execution_count": null,
   "id": "a2646aac",
   "metadata": {},
   "outputs": [],
   "source": []
  },
  {
   "cell_type": "code",
   "execution_count": null,
   "id": "6a519087",
   "metadata": {},
   "outputs": [],
   "source": []
  },
  {
   "cell_type": "code",
   "execution_count": null,
   "id": "e628106f",
   "metadata": {},
   "outputs": [],
   "source": []
  }
 ],
 "metadata": {
  "kernelspec": {
   "display_name": "labelbox_kernel",
   "language": "python",
   "name": "labelbox_kernel"
  },
  "language_info": {
   "codemirror_mode": {
    "name": "ipython",
    "version": 3
   },
   "file_extension": ".py",
   "mimetype": "text/x-python",
   "name": "python",
   "nbconvert_exporter": "python",
   "pygments_lexer": "ipython3",
   "version": "3.8.13"
  }
 },
 "nbformat": 4,
 "nbformat_minor": 5
}
