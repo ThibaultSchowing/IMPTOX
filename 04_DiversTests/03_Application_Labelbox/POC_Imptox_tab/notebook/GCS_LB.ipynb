{
 "cells": [
  {
   "cell_type": "markdown",
   "id": "b6247084",
   "metadata": {},
   "source": [
    "# IMPTOX POC\n",
    "\n",
    "Local Proof Of Concept for the IMPTOX project. \n",
    "\n",
    "Assemble Google Cloud Storage and Labelbox to get them working together. "
   ]
  },
  {
   "cell_type": "markdown",
   "id": "143ba975",
   "metadata": {},
   "source": [
    "## Objectives\n",
    "\n",
    "1.   Connect automatically to both services\n",
    "2.   List, add and update data on both Labelbox and GCS with json files\n",
    "3.   Create a working code to upload a new image and annotate it \n",
    "4.   Create a basic GUI to use the working code "
   ]
  },
  {
   "cell_type": "markdown",
   "id": "10dfdbe6",
   "metadata": {},
   "source": [
    "## Installation\n",
    "Install the Google Cloud SDK: https://cloud.google.com/compute/docs/tutorials/python-guide\n",
    "\n",
    "And follow instructions. \n",
    "\n",
    "**Note**: The gcloud tool has been configured locally. Need of a key/credential authorization when executing elsewhere. "
   ]
  },
  {
   "cell_type": "markdown",
   "id": "239515c5",
   "metadata": {},
   "source": [
    "## Import packages and credentials\n"
   ]
  },
  {
   "cell_type": "code",
   "execution_count": 23,
   "id": "a8da6845",
   "metadata": {},
   "outputs": [],
   "source": [
    "import labelbox\n",
    "import shutil\n",
    "import sys\n",
    "import logging\n",
    "import os\n",
    "import cloudstorage as gcs\n",
    "import googleapiclient\n",
    "\n",
    "from google.cloud import storage"
   ]
  },
  {
   "cell_type": "code",
   "execution_count": 27,
   "id": "7fed322f",
   "metadata": {},
   "outputs": [],
   "source": [
    "# GCS info\n",
    "gcs_project_id = 'imptox-data-storage' # Main project, for test and production. Buckets are created and deleted if needed. \n",
    "gcs_project_number = '399840128243'\n",
    "\n",
    "gcs_bucket_testname = 'storage-test-1-imptox' # Main test-project (do not delete)\n",
    "gcs_bucket_testdir = \"test1\"\n",
    "\n",
    "gcs_r_key = \"./key_r.json\" # Read only key (?)\n",
    "\n"
   ]
  },
  {
   "cell_type": "code",
   "execution_count": 28,
   "id": "b36b7c2a",
   "metadata": {},
   "outputs": [
    {
     "name": "stdout",
     "output_type": "stream",
     "text": [
      "test1/\n",
      "test1/00e6ccb5516d6bdf.jpg\n",
      "test1/02b12fe295225ba1.jpg\n",
      "test1/02d4376234375c2f.jpg\n",
      "test1/02f783a758aec795.jpg\n",
      "test1/04af0dc0511cb98d.jpg\n",
      "test1/04e79e5f419a711a.jpg\n",
      "test1/055747f5734e6007.jpg\n",
      "test1/05d7d61e5e8a8169.jpg\n",
      "test1/060e6719ae46dea6.jpg\n",
      "test1/073f21a5b0fa62dc.jpg\n",
      "test1/07e64bb137734dbf.jpg\n",
      "test1/07f1fe9ce97c8fac.jpg\n",
      "test1/09309ea0a9a824d1.jpg\n",
      "test1/0a85e62973f2bcf6.jpg\n",
      "test1/0a965cbeacb7d0a1.jpg\n",
      "test1/0beb68cc85f20f4c.jpg\n",
      "test1/0c00c86cca098160.jpg\n",
      "test1/0c367abe78cbcf6d.jpg\n",
      "test1/0cb082f518f55fc3.jpg\n",
      "test1/0e656ab17f715b23.jpg\n",
      "test1/0e908c10c31c54d5.jpg\n",
      "test1/0fb433aa35b7d44a.jpg\n",
      "test1/13508bed667a59ed.jpg\n",
      "test1/15d276d673cf5de5.jpg\n",
      "test1/17aa9d00d16ef360.jpg\n",
      "test1/17b4237cafa91eb3.jpg\n",
      "test1/17c823ab5eeb6a69.jpg\n",
      "test1/1830e7176fae4dac.jpg\n",
      "test1/19ae56cc2d93a9bf.jpg\n",
      "test1/1a7a5c2be98b984c.jpg\n",
      "test1/1aa1ff24b8e00fc1.jpg\n",
      "test1/1dbd38b8d1e0c6ef.jpg\n",
      "test1/239561683e6e3824.jpg\n",
      "test1/26647e766e6e2cce.jpg\n",
      "test1/26cf30a2c11b09ed.jpg\n",
      "test1/2746553a5434df65.jpg\n",
      "test1/2e2e26a9c8d4c609.jpg\n",
      "test1/2f6ff7daa1beb4c5.jpg\n",
      "test1/34d2f34ce7edc12c.jpg\n",
      "test1/35a86249723da96b.jpg\n",
      "test1/37f7993e36d1e4e0.jpg\n",
      "test1/42e0f59b6160671f.jpg\n",
      "test1/45ec9b607d6f6cd7.jpg\n",
      "test1/48f7992c2ca04cde.jpg\n",
      "test1/4a7d2a3ca0e06cc0.jpg\n",
      "test1/4be18442d17215fd.jpg\n",
      "test1/4c6d716e2186a652.jpg\n",
      "test1/4f76023448035878.jpg\n",
      "test1/4fcee0e067c2cd53.jpg\n",
      "test1/53e34697e8388f42.jpg\n",
      "test1/544e6900c23b5020.jpg\n",
      "test1/5b778f6fe26f7d7c.jpg\n",
      "test1/5f8aaec8ed14a3db.jpg\n",
      "test1/6089d295a6409364.jpg\n",
      "test1/61bd08bf28568de6.jpg\n",
      "test1/650b5dda92c686dd.jpg\n",
      "test1/6e8cb3d2954f9586.jpg\n",
      "test1/6ec6d8ddcce0de4f.jpg\n",
      "test1/6fb63629b7fb60e0.jpg\n",
      "test1/746b6e513ba7c165.jpg\n",
      "test1/787d0f5334a13409.jpg\n",
      "test1/7901a0aa7e1a6a9e.jpg\n",
      "test1/7a72a21bee79c2ed.jpg\n",
      "test1/7d328ab73edbb52c.jpg\n",
      "test1/83acc5c3ef30e901.jpg\n",
      "test1/86cbd972531d32c9.jpg\n",
      "test1/8da0dbb30f0d014a.jpg\n",
      "test1/913f77b07603c598.jpg\n",
      "test1/9a663969742ef91e.jpg\n",
      "test1/9e82314dc99e8d18.jpg\n",
      "test1/aa1506124d367de0.jpg\n",
      "test1/ae8ddb9b82ba3280.jpg\n"
     ]
    }
   ],
   "source": [
    "# Explicitly use service account credentials by specifying the private key file.\n",
    "storage_client = storage.Client.from_service_account_json(gcs_r_key) # key has to be next to .py file\n",
    "bucket = storage_client.get_bucket(gcs_bucket_testname)\n",
    "\n",
    "\n",
    "# \n",
    "#\n",
    "#\n",
    "def get_bucket_file_list(bucket_name):\n",
    "    from google.cloud import storage\n",
    "\n",
    "    \n",
    "    blobs = storage_client.list_blobs(bucket_name)\n",
    "\n",
    "    return(blobs)\n",
    "\n",
    "#\n",
    "#\n",
    "#\n",
    "def upload_to_bucket(blob_name, file_path, bucket_name):\n",
    "    try:\n",
    "        blob = bucket.blob(blob_name)\n",
    "        blob.upload_from_file_name(file_path)\n",
    "        return True\n",
    "    except Exception as e:\n",
    "        print(e)\n",
    "        return False\n",
    "\n",
    "#\n",
    "#\n",
    "#\n",
    "\n",
    "\n",
    "\n",
    "\n",
    "blobs = get_bucket_file_list(gcs_bucket_testname)\n",
    "\n",
    "# Print bucket details\n",
    "vars()\n",
    "\n",
    "for blob in blobs:\n",
    "    print(blob.name)\n",
    "\n"
   ]
  },
  {
   "cell_type": "code",
   "execution_count": null,
   "id": "e37c8c73",
   "metadata": {},
   "outputs": [],
   "source": [
    "from tkinter import Tk     # from tkinter import Tk for Python 3.x\n",
    "from tkinter.filedialog import askopenfilename\n",
    "\n",
    "Tk().withdraw() # we don't want a full GUI, so keep the root window from appearing\n",
    "filename = askopenfilename() # show an \"Open\" dialog box and return the path to the selected file\n",
    "print(filename)"
   ]
  },
  {
   "cell_type": "code",
   "execution_count": null,
   "id": "13ba2294",
   "metadata": {},
   "outputs": [],
   "source": []
  }
 ],
 "metadata": {
  "kernelspec": {
   "display_name": "Python 3 (ipykernel)",
   "language": "python",
   "name": "python3"
  },
  "language_info": {
   "codemirror_mode": {
    "name": "ipython",
    "version": 3
   },
   "file_extension": ".py",
   "mimetype": "text/x-python",
   "name": "python",
   "nbconvert_exporter": "python",
   "pygments_lexer": "ipython3",
   "version": "3.8.5"
  }
 },
 "nbformat": 4,
 "nbformat_minor": 5
}
