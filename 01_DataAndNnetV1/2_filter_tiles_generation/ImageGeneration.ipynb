{
 "cells": [
  {
   "cell_type": "markdown",
   "id": "fba2e1f1",
   "metadata": {},
   "source": [
    "# Goal: Generate tiles from full filters \n",
    "\n",
    "With Apeer, we annotated a full filter, selecting the tray and holder as background. In order to obtain annotated images on which we can train a neural network, we must first create these \"tiles\" and for this we use this notebook to manually visualize, cut and export full filter images. \n",
    "\n",
    "Generate cropped image without tray or holder visible\n",
    "Generate images with the matching sizes automatically\n",
    "Generate mirror, rotated, etc images (optional as augmentation is done after annotation)\n",
    "\n",
    "Manual operations: remove x-y margin from the original image\n"
   ]
  },
  {
   "cell_type": "code",
   "execution_count": null,
   "id": "f4a4911a",
   "metadata": {},
   "outputs": [],
   "source": [
    "import re\n",
    "import cv2\n",
    "import PIL.Image\n",
    "from PIL import *\n",
    "import numpy as np\n",
    "import matplotlib.pyplot as plt\n",
    "import random\n",
    "import scipy.ndimage\n",
    "import skimage\n",
    "import os\n",
    "\n",
    "from PIL import Image, ImageOps\n",
    "\n",
    "from IPython.display import display\n",
    "from IPython.display import Markdown as md\n",
    "\n",
    "from os import listdir\n",
    "from os.path import isfile, join\n",
    "\n",
    "# import ipywidgets.interact class, this class will represent a slide bar.\n",
    "from ipywidgets import *\n",
    "\n",
    "#from ipyfilechooser import FileChooser # Does not work remotely but is really cool https://pypi.org/project/ipyfilechooser/"
   ]
  },
  {
   "cell_type": "code",
   "execution_count": null,
   "id": "44b5ea63",
   "metadata": {},
   "outputs": [],
   "source": [
    "#input_dir = \"./input_images/\"\n",
    "input_dir = \"./input_images/complicated_filters/\"\n",
    "output_dir_cropped = \"./output_images/cropped_filters_2\"\n",
    "output_dir_tiles = \"./output_images/tiles_2\"\n"
   ]
  },
  {
   "cell_type": "code",
   "execution_count": null,
   "id": "a1ccc93a",
   "metadata": {},
   "outputs": [],
   "source": [
    "# Im is np.array: \n",
    "# tiles = [im[x:x+M,y:y+N] for x in range(0,im.shape[0],M) for y in range(0,im.shape[1],N)]"
   ]
  },
  {
   "cell_type": "code",
   "execution_count": null,
   "id": "999d6fcc",
   "metadata": {
    "scrolled": true
   },
   "outputs": [],
   "source": [
    "# Non interactive argument: https://forum.image.sc/t/non-interactive-arguments-in-ipywidgets/32649\n",
    "#@interact_manual(x=(0, 100))\n",
    "#def blur(imarray = fixed(imarray), x = 5):\n",
    "#    print(type(imarray))\n",
    "#    blurred = skimage.filters.gaussian(imarray, sigma=(x, x))\n",
    "#    plt.imshow(blurred)\n",
    "    \n",
    "# use interact decorator to decorate the function, so the function can receive the slide bar's value with parameter x.\n",
    "#@interact(x=(0, 1000))\n",
    "#def crop_top_margin(x, image_path):\n",
    "#    print(f\"The value of x is {x}\")"
   ]
  },
  {
   "cell_type": "markdown",
   "id": "68e28a87",
   "metadata": {},
   "source": [
    "# Preview Image and manually set margins to cut the tray and filter holder\n",
    "\n",
    "Only select good quality filters. Filters with poor focus, clogged materials, etc are not the target of the tool for now. "
   ]
  },
  {
   "cell_type": "code",
   "execution_count": null,
   "id": "81ba5e0d",
   "metadata": {},
   "outputs": [],
   "source": [
    "# Preview\n",
    "from IPython.display import Image\n",
    "\n",
    "\n",
    "\n",
    "@interact\n",
    "def show_images(file=os.listdir(input_dir)):\n",
    "    #img = Image.open(input_dir + file)\n",
    "    print(input_dir + file)\n",
    "    preview_file_path = input_dir + file\n",
    "    imarray = plt.imread(input_dir + file)\n",
    "    display(PIL.Image.fromarray(imarray))\n",
    "    \n",
    "  "
   ]
  },
  {
   "cell_type": "markdown",
   "id": "1b283733",
   "metadata": {},
   "source": [
    "# Select the file from list for preprocessing"
   ]
  },
  {
   "cell_type": "code",
   "execution_count": null,
   "id": "7284aa85",
   "metadata": {},
   "outputs": [],
   "source": [
    "import glob\n",
    "\n",
    "import IPython.display\n",
    "import ipywidgets\n",
    "\n",
    "path = ipywidgets.Text(\n",
    "    description='String:',\n",
    "    value='./input_images/complicated_filters')\n",
    "\n",
    "IPython.display.display(path)\n",
    "\n",
    "options = glob.glob('{}/*'.format(path.value))\n",
    "\n",
    "files = ipywidgets.SelectMultiple(\n",
    "    description='Dataset(s)',\n",
    "    options=options,\n",
    "    layout=widgets.Layout(width='900px', height='200px')\n",
    ")\n",
    "\n",
    "IPython.display.display(files)"
   ]
  },
  {
   "cell_type": "code",
   "execution_count": null,
   "id": "7d87da92",
   "metadata": {},
   "outputs": [],
   "source": [
    "# Show selected file (above)\n",
    "\n",
    "# Takes first file is more than one\n",
    "if len(files.value) != 0:\n",
    "    image_path = files.value[0]\n",
    "    print(image_path)\n",
    "    imarray = plt.imread(image_path)\n",
    "#    plt.imshow(imarray)\n",
    "#    plt.show()\n",
    "\n",
    "    # Opens a image in RGB mode\n",
    "    #imarray = plt.imread(\"./input_images/whole_filters/Boiled_Clams_od_020322_uzorak_br_6-Uzorak_br_6_Light_II.tif\")\n",
    "    im = PIL.Image.fromarray(imarray)\n",
    "\n",
    "    # Size of the image in pixels (size of original image)\n",
    "    # (This is not mandatory)\n",
    "    width, height = im.size\n",
    "    print(im.size)\n",
    "\n",
    "    # Setting the points for cropped image\n",
    "    left = 400\n",
    "    top = 200\n",
    "    right = width - 200\n",
    "    bottom = height - 200\n",
    "\n",
    "    print((left, top, right, bottom))\n",
    "\n",
    "    # Cropped image of above dimension\n",
    "    # (It will not change original image)\n",
    "    im1 = im.crop((left, top, right, bottom))\n",
    "\n",
    "    # Shows the image in image viewer\n",
    "    display(im1)\n",
    "\n"
   ]
  },
  {
   "cell_type": "markdown",
   "id": "53f7b1a5",
   "metadata": {},
   "source": [
    "## If the above cut is satisfying, save the image"
   ]
  },
  {
   "cell_type": "code",
   "execution_count": null,
   "id": "eac6cdbf",
   "metadata": {},
   "outputs": [],
   "source": [
    "# output_dir_cropped\n",
    "\n",
    "output_image_path = os.path.join(output_dir_cropped, \"cropped_\" + os.path.basename(image_path))\n",
    "print(f\"Save image {image_path} into {output_image_path}\")\n",
    "\n",
    "# Uncomment to save\n",
    "print(type(im1))\n",
    "im1.save(output_image_path)"
   ]
  },
  {
   "cell_type": "code",
   "execution_count": null,
   "id": "7b3c68f2",
   "metadata": {},
   "outputs": [],
   "source": []
  },
  {
   "cell_type": "markdown",
   "id": "73f4fb59",
   "metadata": {},
   "source": [
    "# "
   ]
  },
  {
   "cell_type": "code",
   "execution_count": null,
   "id": "ef102aa8",
   "metadata": {
    "scrolled": true
   },
   "outputs": [],
   "source": []
  },
  {
   "cell_type": "markdown",
   "id": "cbae0287",
   "metadata": {},
   "source": [
    "# Sliding window within the cropped image: cut fixed size tiles"
   ]
  },
  {
   "cell_type": "code",
   "execution_count": null,
   "id": "f7856d3b",
   "metadata": {},
   "outputs": [],
   "source": [
    "# Efficient sliding window: https://stackoverflow.com/questions/61051120/sliding-window-on-a-python-image\n",
    "\n",
    "target_width = 752\n",
    "target_height = 480\n",
    "step_size = 250\n",
    "\n",
    "\n",
    "\n",
    "def sliding_window(image, stepSize, windowSize, idx):\n",
    "    for y in range(0, image.shape[0]-target_height, stepSize):\n",
    "        for x in range(0, image.shape[1]-target_width, stepSize):\n",
    "            yield (x, y, image[y:y + windowSize[1], x:x + windowSize[0]])\n",
    "            \n",
    "            \n",
    "\n",
    "def extractFeatures(window, idx):\n",
    "    # avoid windows with size not matching\n",
    "    #print(window.shape)\n",
    "    if window.shape != (480, 752, 3):\n",
    "        print(f\"Ignore {idx}\")\n",
    "        return \"Ignore window\"\n",
    "    else:\n",
    "        # For each window, save the original, a flip and a mirror version (flip + mirror juged too much)\n",
    "        im = PIL.Image.fromarray(window)\n",
    "        im_path = os.path.join(output_dir_tiles, f\"{idx[0]}_{idx[1]}_auto_generated_tile.jpg\")\n",
    "        im.save(im_path)\n",
    "\n",
    "        #imflip_path = os.path.join(output_dir_tiles, f\"{idx[0]}_{idx[1]}_auto_generated_tile_flip.jpg\")\n",
    "        #im_flip = ImageOps.flip(im)\n",
    "        #im_flip.save(imflip_path)\n",
    "\n",
    "        #immirror_path = os.path.join(output_dir_tiles, f\"{idx[0]}_{idx[1]}_auto_generated_tile_mirror.jpg\")\n",
    "        #im_mirror = ImageOps.mirror(im)\n",
    "        #im_mirror.save(immirror_path)\n",
    "\n",
    "    return \"features\"\n",
    "\n",
    "#images = []\n"
   ]
  },
  {
   "cell_type": "code",
   "execution_count": null,
   "id": "4d0ccd72",
   "metadata": {},
   "outputs": [],
   "source": [
    "\n",
    "\n",
    "cropped_image_list = next(os.walk(output_dir_cropped), (None, None, []))[2]  # [] if no file\n",
    "\n",
    "\n",
    "\n",
    "# SLIDE !\n",
    "#cropped_image_list = [cropped_image_list[0]]\n",
    "#print(cropped_image_list)\n",
    "\n",
    "for i, image_name in enumerate(cropped_image_list):\n",
    "    print(f\"Image name: {image_name}\")\n",
    "    image_path = os.path.join(output_dir_cropped, image_name)\n",
    "    print(f\"Image path: {image_path}\")\n",
    "    print(f\"Image ID: {i}\")\n",
    "    image = plt.imread(image_path)\n",
    "    features = []\n",
    "    windows = sliding_window(image, step_size, (target_width, target_height), i)\n",
    "    for t, window in enumerate(windows):\n",
    "        featureVector = extractFeatures(window[2], (i,t))\n",
    "        features.append(featureVector)\n",
    "\n",
    "    #numpy.savetxt('image_name_features.txt', feautres, delimiter=\",\")\n"
   ]
  }
 ],
 "metadata": {
  "kernelspec": {
   "display_name": "aienv-kernel",
   "language": "python",
   "name": "aienv"
  },
  "language_info": {
   "codemirror_mode": {
    "name": "ipython",
    "version": 3
   },
   "file_extension": ".py",
   "mimetype": "text/x-python",
   "name": "python",
   "nbconvert_exporter": "python",
   "pygments_lexer": "ipython3",
   "version": "3.11.3"
  }
 },
 "nbformat": 4,
 "nbformat_minor": 5
}
