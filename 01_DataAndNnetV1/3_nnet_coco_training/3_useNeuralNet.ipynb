{
 "cells": [
  {
   "cell_type": "markdown",
   "id": "f515f3a5",
   "metadata": {},
   "source": [
    "# Test and use the created neural network\n",
    "\n",
    "\n"
   ]
  },
  {
   "cell_type": "code",
   "execution_count": 1,
   "id": "d0c2f4da",
   "metadata": {},
   "outputs": [
    {
     "name": "stderr",
     "output_type": "stream",
     "text": [
      "2024-07-02 13:52:17.149166: I tensorflow/core/platform/cpu_feature_guard.cc:182] This TensorFlow binary is optimized to use available CPU instructions in performance-critical operations.\n",
      "To enable the following instructions: AVX2 FMA, in other operations, rebuild TensorFlow with the appropriate compiler flags.\n",
      "2024-07-02 13:52:20.677335: W tensorflow/compiler/tf2tensorrt/utils/py_utils.cc:38] TF-TRT Warning: Could not find TensorRT\n"
     ]
    },
    {
     "ename": "ModuleNotFoundError",
     "evalue": "No module named 'image_slicer'",
     "output_type": "error",
     "traceback": [
      "\u001b[0;31m---------------------------------------------------------------------------\u001b[0m",
      "\u001b[0;31mModuleNotFoundError\u001b[0m                       Traceback (most recent call last)",
      "Cell \u001b[0;32mIn[1], line 35\u001b[0m\n\u001b[1;32m     33\u001b[0m \u001b[38;5;28;01mimport\u001b[39;00m \u001b[38;5;21;01mscipy\u001b[39;00m\u001b[38;5;21;01m.\u001b[39;00m\u001b[38;5;21;01mmisc\u001b[39;00m\n\u001b[1;32m     34\u001b[0m \u001b[38;5;28;01mimport\u001b[39;00m \u001b[38;5;21;01mscipy\u001b[39;00m\n\u001b[0;32m---> 35\u001b[0m \u001b[38;5;28;01mimport\u001b[39;00m \u001b[38;5;21;01mimage_slicer\u001b[39;00m\n\u001b[1;32m     36\u001b[0m \u001b[38;5;28;01mfrom\u001b[39;00m \u001b[38;5;21;01mimage_slicer\u001b[39;00m \u001b[38;5;28;01mimport\u001b[39;00m join\n\u001b[1;32m     37\u001b[0m \u001b[38;5;28;01mfrom\u001b[39;00m \u001b[38;5;21;01mPIL\u001b[39;00m \u001b[38;5;28;01mimport\u001b[39;00m Image\n",
      "\u001b[0;31mModuleNotFoundError\u001b[0m: No module named 'image_slicer'"
     ]
    }
   ],
   "source": [
    "import numpy as np\n",
    "\n",
    "\n",
    "\n",
    "from matplotlib import pyplot as plt\n",
    "import matplotlib.image as mpimg\n",
    "from matplotlib.image import imread\n",
    "from matplotlib import rcParams\n",
    "\n",
    "import re\n",
    "import cv2\n",
    "from PIL import Image\n",
    "import detectron2\n",
    "import scipy.ndimage\n",
    "\n",
    "import torch\n",
    "from detectron2 import model_zoo\n",
    "from detectron2.engine import DefaultPredictor\n",
    "from detectron2.config import get_cfg\n",
    "from detectron2.utils.visualizer import Visualizer\n",
    "from detectron2.utils.visualizer import ColorMode\n",
    "\n",
    "import tensorflow as tf\n",
    "from tensorflow import keras\n",
    "import os\n",
    "\n",
    "import cv2\n",
    "import numpy as np\n",
    "from matplotlib import pyplot as plt\n",
    "#from scipy.misc import imsave\n",
    "from scipy import ndimage\n",
    "from scipy import misc\n",
    "import scipy.misc\n",
    "import scipy\n",
    "import image_slicer\n",
    "from image_slicer import join\n",
    "from PIL import Image"
   ]
  },
  {
   "cell_type": "code",
   "execution_count": null,
   "id": "d36e122c",
   "metadata": {},
   "outputs": [],
   "source": [
    "\n",
    "gpuAvailable = torch.cuda.is_available()\n",
    "\n",
    "cfg = get_cfg()\n",
    "cfg.OUTPUT_DIR = \"./TrainDetectron2Model\"\n",
    "\n",
    "weightsPath = os.path.join(cfg.OUTPUT_DIR, \"model_final.pth\")\n",
    "\n",
    "cfg.merge_from_file(model_zoo.get_config_file(\"COCO-InstanceSegmentation/mask_rcnn_R_50_FPN_3x.yaml\"))\n",
    "cfg.MODEL.ROI_HEADS.NUM_CLASSES = 1\n",
    "if not gpuAvailable:\n",
    "    cfg.MODEL.DEVICE = 'cpu'\n",
    "\n",
    "\n",
    "if not os.path.exists(weightsPath):\n",
    "    print('cannot find weights at:', weightsPath, ', neural net detector cannot work.')\n",
    "else:\n",
    "    print('loading weights from', weightsPath)\n",
    "    cfg.MODEL.WEIGHTS = weightsPath\n",
    "    cfg.MODEL.ROI_HEADS.SCORE_THRESH_TEST = 0.1   # set the testing threshold for this model\n",
    "    cfg.TEST.DETECTIONS_PER_IMAGE = 6000\n",
    "    predictor = DefaultPredictor(cfg)"
   ]
  },
  {
   "cell_type": "code",
   "execution_count": null,
   "id": "b24eb734",
   "metadata": {},
   "outputs": [],
   "source": [
    "image_path = \"../0_data/ParticlesFilter/Images/Image2.tif\"\n",
    "\n",
    "\n",
    "image = imread(image_path)\n",
    "\n",
    "fig, ax = plt.subplots(figsize=(7, 7))\n",
    "ax.imshow(image)"
   ]
  },
  {
   "cell_type": "code",
   "execution_count": null,
   "id": "4a2a8243",
   "metadata": {},
   "outputs": [],
   "source": [
    "print(type(image))\n",
    "\n",
    "output = predictor(image)\n",
    "\n",
    "print(output)\n",
    "\n",
    "v = Visualizer(image[:, :, ::-1], # flip colors from RGB to BGR\n",
    "                scale=0.8, \n",
    "                instance_mode=ColorMode.IMAGE_BW   # remove the colors of unsegmented pixels\n",
    ")\n",
    "v = v.draw_instance_predictions(output[\"instances\"].to(\"cpu\"))\n",
    "    \n",
    "    \n",
    "fig, ax = plt.subplots(figsize=(10, 10))\n",
    "ax.imshow(v.get_image()[:, :, ::-1])"
   ]
  },
  {
   "cell_type": "markdown",
   "id": "9fde3187",
   "metadata": {},
   "source": [
    "Cut image into pieces, annotate, reassemble"
   ]
  },
  {
   "cell_type": "code",
   "execution_count": null,
   "id": "df346a7c",
   "metadata": {
    "scrolled": false
   },
   "outputs": [],
   "source": [
    "\n",
    "\n",
    "img_path = '../0_data/ParticlesFilter/Images/Image2.tif'\n",
    "\n",
    "full_image = imread(img_path)\n",
    "\n",
    "#fig, ax = plt.subplots(figsize=(7, 7))\n",
    "#ax.imshow(full_image)\n",
    "#plt.show()\n",
    "\n"
   ]
  },
  {
   "cell_type": "code",
   "execution_count": null,
   "id": "49749991",
   "metadata": {
    "scrolled": false
   },
   "outputs": [],
   "source": [
    "# https://stackoverflow.com/questions/43565275/split-and-join-images-in-python\n",
    "num_tiles = 20\n",
    "tiles = image_slicer.slice(img_path, num_tiles)\n",
    "print(tiles)\n",
    "\n",
    "print(\"=================================\")\n",
    "\n",
    "for i, tile in enumerate(tiles):\n",
    "    \n",
    "    print(f\"----- Image: {tile.filename} -----\")\n",
    "    \n",
    "    # Convert PNG (float) to uint8 pixels\n",
    "    image_tile = imread(tile.filename)\n",
    "    image_tile *= 255\n",
    "    image_tile = image_tile.astype('uint8')\n",
    "\n",
    "    \n",
    "    fig, ax = plt.subplots(figsize=(7, 7))\n",
    "    ax.imshow(image_tile)\n",
    "    plt.show()\n",
    "    \n",
    "    \n",
    "    current_output = predictor(image_tile)\n",
    "    \n",
    "\n",
    "    v = Visualizer(image_tile[:, :, ::-1], \n",
    "                    scale=0.8, \n",
    "                    instance_mode=ColorMode.IMAGE_BW   \n",
    "    )\n",
    "    v = v.draw_instance_predictions(current_output[\"instances\"].to(\"cpu\"))\n",
    "\n",
    "    \n",
    "\n",
    "    fig, ax = plt.subplots(figsize=(7, 7))\n",
    "    ax.imshow(v.get_image()[:, :, ::-1])\n",
    "    plt.show()\n",
    "\n",
    "    \n",
    "#image = join(tiles)\n",
    "\n",
    "#image.save('./Image2_join.tif')"
   ]
  },
  {
   "cell_type": "code",
   "execution_count": null,
   "id": "37c32f75",
   "metadata": {
    "scrolled": false
   },
   "outputs": [],
   "source": [
    "image_png = imread(\"../0_data/ParticlesFilter/Images/Image2_01_01.png\")\n",
    "image_tif = imread(\"../0_data/ParticlesFilter/Images/Image2.tif\")\n",
    "\n",
    "print(type(image_png))\n",
    "print(image_png.shape)\n",
    "print(image_png[0])\n",
    "\n",
    "\n",
    "print(\"--------------------\")\n",
    "print(type(image_tif))\n",
    "print(image_tif.shape)\n",
    "print(image_tif[0])\n",
    "\n",
    "\n",
    "\n",
    "fig, ax = plt.subplots(figsize=(7, 7))\n",
    "ax.imshow(image_png)\n",
    "plt.show()\n"
   ]
  },
  {
   "cell_type": "code",
   "execution_count": null,
   "id": "8cce788e",
   "metadata": {},
   "outputs": [],
   "source": [
    "\n",
    "output = predictor(image)\n",
    "\n",
    "#print(output)\n",
    "\n",
    "v = Visualizer(image[:, :, ::-1], # flip colors from RGB to BGR\n",
    "                scale=0.8, \n",
    "                instance_mode=ColorMode.IMAGE_BW   # remove the colors of unsegmented pixels\n",
    ")\n",
    "# Masks\n",
    "for mask in output[\"instances\"].pred_masks.to('cpu'):\n",
    "    v.draw_soft_mask(mask)\n",
    "v = v.get_output()\n",
    "#out =  v.get_image()[:, :, ::-1]\n",
    "\n",
    "  \n",
    "    \n",
    "fig, ax = plt.subplots(figsize=(7, 7))\n",
    "ax.imshow(v.get_image()[:, :, ::-1])\n",
    "plt.show()"
   ]
  },
  {
   "cell_type": "code",
   "execution_count": null,
   "id": "f2c1912b",
   "metadata": {},
   "outputs": [],
   "source": []
  },
  {
   "cell_type": "code",
   "execution_count": null,
   "id": "c7c30249",
   "metadata": {},
   "outputs": [],
   "source": []
  }
 ],
 "metadata": {
  "kernelspec": {
   "display_name": "aienv",
   "language": "python",
   "name": "python3"
  },
  "language_info": {
   "codemirror_mode": {
    "name": "ipython",
    "version": 3
   },
   "file_extension": ".py",
   "mimetype": "text/x-python",
   "name": "python",
   "nbconvert_exporter": "python",
   "pygments_lexer": "ipython3",
   "version": "3.11.3"
  }
 },
 "nbformat": 4,
 "nbformat_minor": 5
}
