{
 "cells": [
  {
   "cell_type": "markdown",
   "id": "f2930e07-b184-4e8a-8e0e-c7bcdeb7e4f3",
   "metadata": {},
   "source": [
    "# Train Detectron2 NN from V3 COCO dataset\n",
    "\n",
    "\n",
    "DF of saturated filters manually annotated. \n",
    "\n",
    "# NOT DONE\n",
    "\n",
    "Moved directly to a curated dataset containing all manually annotated or curated data. \n",
    "\n"
   ]
  },
  {
   "cell_type": "code",
   "execution_count": 2,
   "id": "0b471075-836d-4959-a5c8-c2857a9ddc79",
   "metadata": {},
   "outputs": [
    {
     "name": "stdout",
     "output_type": "stream",
     "text": [
      "loading Roboflow workspace...\n",
      "loading Roboflow project...\n",
      "Downloading Dataset Version Zip in ../../../0_DATA/IMPTOX/01-01_image_library/V3/download/ to coco: 100% [3176781 / 3176781] bytes\n"
     ]
    },
    {
     "name": "stderr",
     "output_type": "stream",
     "text": [
      "Extracting Dataset Version Zip to ../../../0_DATA/IMPTOX/01-01_image_library/V3/download/ in coco:: 100%|█| 41/41 [00:00<00:00, 269.19i\n"
     ]
    }
   ],
   "source": [
    "\n",
    "from roboflow import Roboflow\n",
    "rf = Roboflow(api_key=\"NwThm5r5Th3A7Pe1bbzw\")\n",
    "project = rf.workspace(\"uftir-particles\").project(\"uftir-saturated-filter-particle-detection\")\n",
    "download_folder = \"../../../0_DATA/IMPTOX/01-01_image_library/V3/download/\"\n",
    "dataset = project.version(1).download(model_format=\"coco\", location=download_folder)\n",
    "\n"
   ]
  },
  {
   "cell_type": "markdown",
   "id": "c55ea7dd-1cfa-4860-83b1-d8d8ad9a67c3",
   "metadata": {},
   "source": [
    "With the second version of the project, containing augmented data. "
   ]
  },
  {
   "cell_type": "code",
   "execution_count": 3,
   "id": "efa65d08-d564-437a-9df4-ca2da5ce52c7",
   "metadata": {},
   "outputs": [],
   "source": [
    "! mkdir -p ../../../0_DATA/IMPTOX/01-01_image_library/V3/download_version2_augmented/"
   ]
  },
  {
   "cell_type": "code",
   "execution_count": 4,
   "id": "d8471886-7b7b-46ae-8e22-4920323a0f16",
   "metadata": {},
   "outputs": [
    {
     "name": "stdout",
     "output_type": "stream",
     "text": [
      "You are already logged into Roboflow. To make a different login, run roboflow.login(force=True).\n",
      "loading Roboflow workspace...\n",
      "loading Roboflow workspace...\n",
      "loading Roboflow project...\n",
      "Exporting format coco in progress : 85.0%\n",
      "Version export complete for coco format\n",
      "Downloading Dataset Version Zip in ../../../0_DATA/IMPTOX/01-01_image_library/V3/download_version2_augmented/ to coco: 100% [6061335 / 6061335] bytes\n"
     ]
    },
    {
     "name": "stderr",
     "output_type": "stream",
     "text": [
      "Extracting Dataset Version Zip to ../../../0_DATA/IMPTOX/01-01_image_library/V3/download_version2_augmented/ in coco:: 100%|█| 71/71 [0\n"
     ]
    }
   ],
   "source": [
    "import roboflow\n",
    "roboflow.login()\n",
    "rf = roboflow.Roboflow()\n",
    "workspace = rf.workspace()\n",
    "\n",
    "project = rf.workspace(\"uftir-particles\").project(\"uftir-saturated-filter-particle-detection\")\n",
    "download_folder = \"../../../0_DATA/IMPTOX/01-01_image_library/V3/download_version2_augmented/\"\n",
    "dataset = project.version(2).download(model_format=\"coco\", location=download_folder)\n"
   ]
  },
  {
   "cell_type": "code",
   "execution_count": null,
   "id": "7fb84c46-c38a-47e3-a302-39a883536158",
   "metadata": {},
   "outputs": [],
   "source": []
  },
  {
   "cell_type": "code",
   "execution_count": null,
   "id": "85efa56d-bf3d-4124-9f55-0bf48a1198dd",
   "metadata": {},
   "outputs": [],
   "source": []
  },
  {
   "cell_type": "code",
   "execution_count": null,
   "id": "7f71bd48-c739-4ece-9d32-3a50760d6948",
   "metadata": {},
   "outputs": [],
   "source": []
  },
  {
   "cell_type": "code",
   "execution_count": null,
   "id": "3f79f9fa-a8d6-452d-a667-cb514196b2ec",
   "metadata": {},
   "outputs": [],
   "source": []
  },
  {
   "cell_type": "code",
   "execution_count": null,
   "id": "dccebfc2-77e0-4f02-8ec4-52aa8889bba9",
   "metadata": {},
   "outputs": [],
   "source": []
  }
 ],
 "metadata": {
  "kernelspec": {
   "display_name": "aienv-kernel",
   "language": "python",
   "name": "aienv"
  },
  "language_info": {
   "codemirror_mode": {
    "name": "ipython",
    "version": 3
   },
   "file_extension": ".py",
   "mimetype": "text/x-python",
   "name": "python",
   "nbconvert_exporter": "python",
   "pygments_lexer": "ipython3",
   "version": "3.11.3"
  }
 },
 "nbformat": 4,
 "nbformat_minor": 5
}
